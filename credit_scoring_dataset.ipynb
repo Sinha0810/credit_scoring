{
 "cells": [
  {
   "cell_type": "markdown",
   "metadata": {},
   "source": [
    "# Analyzing borrower's risk of defaulting\n",
    "\n",
    "Your project is to prepare a report for a bank’s loan division. You’ll need to find out if a customer’s marital status and number of children has an impact on whether they will default on a loan. The bank already has some data on customer's credit worthiness.\n",
    "\n",
    "Your report will be considered when building a \"credit scoring\" of a potential customer. A \"credit scoring\" is used to evaluate the ability of a potential borrower to repay their loan.\n",
    "\n",
    "\n",
    "**Description of the data:**\n",
    "* children : the number of children in the family \n",
    "* days_employed : how long the customer has been working\n",
    "* dob_years : the customer’s age\n",
    "* education : the customer’s education level\n",
    "* education_id : identifier for the customer’s education\n",
    "* family_status : the customer’s marital status\n",
    "* family_status_id : identifier for the customer’s marital status\n",
    "* gender : the customer’s gender\n",
    "* income_type : the customer’s income type\n",
    "* debt : whether the customer has ever defaulted on a loan\n",
    "* total_income : monthly income\n",
    "* purpose : reason for taking out a loan"
   ]
  },
  {
   "cell_type": "markdown",
   "metadata": {},
   "source": [
    "## Step 1. Open the data file and have a look at the general information. "
   ]
  },
  {
   "cell_type": "code",
   "execution_count": 1,
   "metadata": {},
   "outputs": [],
   "source": [
    "import pandas as pd\n",
    "import numpy as np"
   ]
  },
  {
   "cell_type": "code",
   "execution_count": 2,
   "metadata": {},
   "outputs": [
    {
     "data": {
      "text/html": [
       "<div>\n",
       "<style scoped>\n",
       "    .dataframe tbody tr th:only-of-type {\n",
       "        vertical-align: middle;\n",
       "    }\n",
       "\n",
       "    .dataframe tbody tr th {\n",
       "        vertical-align: top;\n",
       "    }\n",
       "\n",
       "    .dataframe thead th {\n",
       "        text-align: right;\n",
       "    }\n",
       "</style>\n",
       "<table border=\"1\" class=\"dataframe\">\n",
       "  <thead>\n",
       "    <tr style=\"text-align: right;\">\n",
       "      <th></th>\n",
       "      <th>children</th>\n",
       "      <th>days_employed</th>\n",
       "      <th>dob_years</th>\n",
       "      <th>education</th>\n",
       "      <th>education_id</th>\n",
       "      <th>family_status</th>\n",
       "      <th>family_status_id</th>\n",
       "      <th>gender</th>\n",
       "      <th>income_type</th>\n",
       "      <th>debt</th>\n",
       "      <th>total_income</th>\n",
       "      <th>purpose</th>\n",
       "    </tr>\n",
       "  </thead>\n",
       "  <tbody>\n",
       "    <tr>\n",
       "      <th>0</th>\n",
       "      <td>1</td>\n",
       "      <td>-8437.673028</td>\n",
       "      <td>42</td>\n",
       "      <td>bachelor's degree</td>\n",
       "      <td>0</td>\n",
       "      <td>married</td>\n",
       "      <td>0</td>\n",
       "      <td>F</td>\n",
       "      <td>employee</td>\n",
       "      <td>0</td>\n",
       "      <td>40620.102</td>\n",
       "      <td>purchase of the house</td>\n",
       "    </tr>\n",
       "    <tr>\n",
       "      <th>1</th>\n",
       "      <td>1</td>\n",
       "      <td>-4024.803754</td>\n",
       "      <td>36</td>\n",
       "      <td>secondary education</td>\n",
       "      <td>1</td>\n",
       "      <td>married</td>\n",
       "      <td>0</td>\n",
       "      <td>F</td>\n",
       "      <td>employee</td>\n",
       "      <td>0</td>\n",
       "      <td>17932.802</td>\n",
       "      <td>car purchase</td>\n",
       "    </tr>\n",
       "    <tr>\n",
       "      <th>2</th>\n",
       "      <td>0</td>\n",
       "      <td>-5623.422610</td>\n",
       "      <td>33</td>\n",
       "      <td>Secondary Education</td>\n",
       "      <td>1</td>\n",
       "      <td>married</td>\n",
       "      <td>0</td>\n",
       "      <td>M</td>\n",
       "      <td>employee</td>\n",
       "      <td>0</td>\n",
       "      <td>23341.752</td>\n",
       "      <td>purchase of the house</td>\n",
       "    </tr>\n",
       "    <tr>\n",
       "      <th>3</th>\n",
       "      <td>3</td>\n",
       "      <td>-4124.747207</td>\n",
       "      <td>32</td>\n",
       "      <td>secondary education</td>\n",
       "      <td>1</td>\n",
       "      <td>married</td>\n",
       "      <td>0</td>\n",
       "      <td>M</td>\n",
       "      <td>employee</td>\n",
       "      <td>0</td>\n",
       "      <td>42820.568</td>\n",
       "      <td>supplementary education</td>\n",
       "    </tr>\n",
       "    <tr>\n",
       "      <th>4</th>\n",
       "      <td>0</td>\n",
       "      <td>340266.072047</td>\n",
       "      <td>53</td>\n",
       "      <td>secondary education</td>\n",
       "      <td>1</td>\n",
       "      <td>civil partnership</td>\n",
       "      <td>1</td>\n",
       "      <td>F</td>\n",
       "      <td>retiree</td>\n",
       "      <td>0</td>\n",
       "      <td>25378.572</td>\n",
       "      <td>to have a wedding</td>\n",
       "    </tr>\n",
       "  </tbody>\n",
       "</table>\n",
       "</div>"
      ],
      "text/plain": [
       "   children  days_employed  dob_years            education  education_id  \\\n",
       "0         1   -8437.673028         42    bachelor's degree             0   \n",
       "1         1   -4024.803754         36  secondary education             1   \n",
       "2         0   -5623.422610         33  Secondary Education             1   \n",
       "3         3   -4124.747207         32  secondary education             1   \n",
       "4         0  340266.072047         53  secondary education             1   \n",
       "\n",
       "       family_status  family_status_id gender income_type  debt  total_income  \\\n",
       "0            married                 0      F    employee     0     40620.102   \n",
       "1            married                 0      F    employee     0     17932.802   \n",
       "2            married                 0      M    employee     0     23341.752   \n",
       "3            married                 0      M    employee     0     42820.568   \n",
       "4  civil partnership                 1      F     retiree     0     25378.572   \n",
       "\n",
       "                   purpose  \n",
       "0    purchase of the house  \n",
       "1             car purchase  \n",
       "2    purchase of the house  \n",
       "3  supplementary education  \n",
       "4        to have a wedding  "
      ]
     },
     "execution_count": 2,
     "metadata": {},
     "output_type": "execute_result"
    }
   ],
   "source": [
    "# Read the games data\n",
    "credit_scoring_eng = pd.read_csv('/Users/fanibhushan/Downloads/credit_scoring_eng.csv')    \n",
    "credit_scoring_eng.head()\n"
   ]
  },
  {
   "cell_type": "code",
   "execution_count": 3,
   "metadata": {},
   "outputs": [
    {
     "data": {
      "text/plain": [
       "('Total Rows & Columns:', (21525, 12))"
      ]
     },
     "execution_count": 3,
     "metadata": {},
     "output_type": "execute_result"
    }
   ],
   "source": [
    "#Number of rows & columns\n",
    "'Total Rows & Columns:',credit_scoring_eng.shape"
   ]
  },
  {
   "cell_type": "code",
   "execution_count": 4,
   "metadata": {},
   "outputs": [
    {
     "name": "stdout",
     "output_type": "stream",
     "text": [
      "<class 'pandas.core.frame.DataFrame'>\n",
      "RangeIndex: 21525 entries, 0 to 21524\n",
      "Data columns (total 12 columns):\n",
      " #   Column            Non-Null Count  Dtype  \n",
      "---  ------            --------------  -----  \n",
      " 0   children          21525 non-null  int64  \n",
      " 1   days_employed     19351 non-null  float64\n",
      " 2   dob_years         21525 non-null  int64  \n",
      " 3   education         21525 non-null  object \n",
      " 4   education_id      21525 non-null  int64  \n",
      " 5   family_status     21525 non-null  object \n",
      " 6   family_status_id  21525 non-null  int64  \n",
      " 7   gender            21525 non-null  object \n",
      " 8   income_type       21525 non-null  object \n",
      " 9   debt              21525 non-null  int64  \n",
      " 10  total_income      19351 non-null  float64\n",
      " 11  purpose           21525 non-null  object \n",
      "dtypes: float64(2), int64(5), object(5)\n",
      "memory usage: 2.0+ MB\n"
     ]
    }
   ],
   "source": [
    "# variable types\n",
    "credit_scoring_eng.info()"
   ]
  },
  {
   "cell_type": "code",
   "execution_count": 5,
   "metadata": {},
   "outputs": [
    {
     "data": {
      "text/html": [
       "<div>\n",
       "<style scoped>\n",
       "    .dataframe tbody tr th:only-of-type {\n",
       "        vertical-align: middle;\n",
       "    }\n",
       "\n",
       "    .dataframe tbody tr th {\n",
       "        vertical-align: top;\n",
       "    }\n",
       "\n",
       "    .dataframe thead th {\n",
       "        text-align: right;\n",
       "    }\n",
       "</style>\n",
       "<table border=\"1\" class=\"dataframe\">\n",
       "  <thead>\n",
       "    <tr style=\"text-align: right;\">\n",
       "      <th></th>\n",
       "      <th>children</th>\n",
       "      <th>days_employed</th>\n",
       "      <th>dob_years</th>\n",
       "      <th>education_id</th>\n",
       "      <th>family_status_id</th>\n",
       "      <th>debt</th>\n",
       "      <th>total_income</th>\n",
       "    </tr>\n",
       "  </thead>\n",
       "  <tbody>\n",
       "    <tr>\n",
       "      <th>count</th>\n",
       "      <td>21525.000000</td>\n",
       "      <td>19351.000000</td>\n",
       "      <td>21525.000000</td>\n",
       "      <td>21525.000000</td>\n",
       "      <td>21525.000000</td>\n",
       "      <td>21525.000000</td>\n",
       "      <td>19351.000000</td>\n",
       "    </tr>\n",
       "    <tr>\n",
       "      <th>mean</th>\n",
       "      <td>0.538908</td>\n",
       "      <td>63046.497661</td>\n",
       "      <td>43.293380</td>\n",
       "      <td>0.817236</td>\n",
       "      <td>0.972544</td>\n",
       "      <td>0.080883</td>\n",
       "      <td>26787.568355</td>\n",
       "    </tr>\n",
       "    <tr>\n",
       "      <th>std</th>\n",
       "      <td>1.381587</td>\n",
       "      <td>140827.311974</td>\n",
       "      <td>12.574584</td>\n",
       "      <td>0.548138</td>\n",
       "      <td>1.420324</td>\n",
       "      <td>0.272661</td>\n",
       "      <td>16475.450632</td>\n",
       "    </tr>\n",
       "    <tr>\n",
       "      <th>min</th>\n",
       "      <td>-1.000000</td>\n",
       "      <td>-18388.949901</td>\n",
       "      <td>0.000000</td>\n",
       "      <td>0.000000</td>\n",
       "      <td>0.000000</td>\n",
       "      <td>0.000000</td>\n",
       "      <td>3306.762000</td>\n",
       "    </tr>\n",
       "    <tr>\n",
       "      <th>25%</th>\n",
       "      <td>0.000000</td>\n",
       "      <td>-2747.423625</td>\n",
       "      <td>33.000000</td>\n",
       "      <td>1.000000</td>\n",
       "      <td>0.000000</td>\n",
       "      <td>0.000000</td>\n",
       "      <td>16488.504500</td>\n",
       "    </tr>\n",
       "    <tr>\n",
       "      <th>50%</th>\n",
       "      <td>0.000000</td>\n",
       "      <td>-1203.369529</td>\n",
       "      <td>42.000000</td>\n",
       "      <td>1.000000</td>\n",
       "      <td>0.000000</td>\n",
       "      <td>0.000000</td>\n",
       "      <td>23202.870000</td>\n",
       "    </tr>\n",
       "    <tr>\n",
       "      <th>75%</th>\n",
       "      <td>1.000000</td>\n",
       "      <td>-291.095954</td>\n",
       "      <td>53.000000</td>\n",
       "      <td>1.000000</td>\n",
       "      <td>1.000000</td>\n",
       "      <td>0.000000</td>\n",
       "      <td>32549.611000</td>\n",
       "    </tr>\n",
       "    <tr>\n",
       "      <th>max</th>\n",
       "      <td>20.000000</td>\n",
       "      <td>401755.400475</td>\n",
       "      <td>75.000000</td>\n",
       "      <td>4.000000</td>\n",
       "      <td>4.000000</td>\n",
       "      <td>1.000000</td>\n",
       "      <td>362496.645000</td>\n",
       "    </tr>\n",
       "  </tbody>\n",
       "</table>\n",
       "</div>"
      ],
      "text/plain": [
       "           children  days_employed     dob_years  education_id  \\\n",
       "count  21525.000000   19351.000000  21525.000000  21525.000000   \n",
       "mean       0.538908   63046.497661     43.293380      0.817236   \n",
       "std        1.381587  140827.311974     12.574584      0.548138   \n",
       "min       -1.000000  -18388.949901      0.000000      0.000000   \n",
       "25%        0.000000   -2747.423625     33.000000      1.000000   \n",
       "50%        0.000000   -1203.369529     42.000000      1.000000   \n",
       "75%        1.000000    -291.095954     53.000000      1.000000   \n",
       "max       20.000000  401755.400475     75.000000      4.000000   \n",
       "\n",
       "       family_status_id          debt   total_income  \n",
       "count      21525.000000  21525.000000   19351.000000  \n",
       "mean           0.972544      0.080883   26787.568355  \n",
       "std            1.420324      0.272661   16475.450632  \n",
       "min            0.000000      0.000000    3306.762000  \n",
       "25%            0.000000      0.000000   16488.504500  \n",
       "50%            0.000000      0.000000   23202.870000  \n",
       "75%            1.000000      0.000000   32549.611000  \n",
       "max            4.000000      1.000000  362496.645000  "
      ]
     },
     "execution_count": 5,
     "metadata": {},
     "output_type": "execute_result"
    }
   ],
   "source": [
    "credit_scoring_eng.describe()"
   ]
  },
  {
   "cell_type": "code",
   "execution_count": 6,
   "metadata": {},
   "outputs": [
    {
     "data": {
      "text/plain": [
       "married              49\n",
       "civil partnership    12\n",
       "unmarried             9\n",
       "widow / widower       4\n",
       "divorced              2\n",
       "Name: family_status, dtype: int64"
      ]
     },
     "execution_count": 6,
     "metadata": {},
     "output_type": "execute_result"
    }
   ],
   "source": [
    "# count of family_status having 20 children\n",
    "credit_scoring_eng.loc[credit_scoring_eng[\"children\"] == 20, \"family_status\"].value_counts()"
   ]
  },
  {
   "cell_type": "code",
   "execution_count": 7,
   "metadata": {},
   "outputs": [
    {
     "data": {
      "text/plain": [
       "married              7500\n",
       "civil partnership    2752\n",
       "unmarried            2265\n",
       "widow / widower       848\n",
       "divorced              784\n",
       "Name: family_status, dtype: int64"
      ]
     },
     "execution_count": 7,
     "metadata": {},
     "output_type": "execute_result"
    }
   ],
   "source": [
    "#count of family_status having 0 children\n",
    "credit_scoring_eng.loc[credit_scoring_eng[\"children\"] == 0, \"family_status\"].value_counts()"
   ]
  },
  {
   "cell_type": "code",
   "execution_count": 8,
   "metadata": {},
   "outputs": [],
   "source": [
    "#Convert negative to positive\n",
    "credit_scoring_eng['days_employed'] = abs(credit_scoring_eng['days_employed'])\n",
    "credit_scoring_eng['children'] = abs(credit_scoring_eng['children'])\n",
    "credit_scoring_eng['total_income'] = abs(credit_scoring_eng['total_income'])"
   ]
  },
  {
   "cell_type": "code",
   "execution_count": 9,
   "metadata": {},
   "outputs": [
    {
     "data": {
      "text/html": [
       "<div>\n",
       "<style scoped>\n",
       "    .dataframe tbody tr th:only-of-type {\n",
       "        vertical-align: middle;\n",
       "    }\n",
       "\n",
       "    .dataframe tbody tr th {\n",
       "        vertical-align: top;\n",
       "    }\n",
       "\n",
       "    .dataframe thead th {\n",
       "        text-align: right;\n",
       "    }\n",
       "</style>\n",
       "<table border=\"1\" class=\"dataframe\">\n",
       "  <thead>\n",
       "    <tr style=\"text-align: right;\">\n",
       "      <th></th>\n",
       "      <th>education</th>\n",
       "      <th>family_status</th>\n",
       "      <th>gender</th>\n",
       "      <th>income_type</th>\n",
       "      <th>purpose</th>\n",
       "    </tr>\n",
       "  </thead>\n",
       "  <tbody>\n",
       "    <tr>\n",
       "      <th>count</th>\n",
       "      <td>21525</td>\n",
       "      <td>21525</td>\n",
       "      <td>21525</td>\n",
       "      <td>21525</td>\n",
       "      <td>21525</td>\n",
       "    </tr>\n",
       "    <tr>\n",
       "      <th>unique</th>\n",
       "      <td>15</td>\n",
       "      <td>5</td>\n",
       "      <td>3</td>\n",
       "      <td>8</td>\n",
       "      <td>38</td>\n",
       "    </tr>\n",
       "    <tr>\n",
       "      <th>top</th>\n",
       "      <td>secondary education</td>\n",
       "      <td>married</td>\n",
       "      <td>F</td>\n",
       "      <td>employee</td>\n",
       "      <td>wedding ceremony</td>\n",
       "    </tr>\n",
       "    <tr>\n",
       "      <th>freq</th>\n",
       "      <td>13750</td>\n",
       "      <td>12380</td>\n",
       "      <td>14236</td>\n",
       "      <td>11119</td>\n",
       "      <td>797</td>\n",
       "    </tr>\n",
       "  </tbody>\n",
       "</table>\n",
       "</div>"
      ],
      "text/plain": [
       "                  education family_status gender income_type           purpose\n",
       "count                 21525         21525  21525       21525             21525\n",
       "unique                   15             5      3           8                38\n",
       "top     secondary education       married      F    employee  wedding ceremony\n",
       "freq                  13750         12380  14236       11119               797"
      ]
     },
     "execution_count": 9,
     "metadata": {},
     "output_type": "execute_result"
    }
   ],
   "source": [
    "credit_scoring_eng.describe(include=np.object)"
   ]
  },
  {
   "cell_type": "code",
   "execution_count": 10,
   "metadata": {},
   "outputs": [
    {
     "data": {
      "text/plain": [
       "F      14236\n",
       "M       7288\n",
       "XNA        1\n",
       "Name: gender, dtype: int64"
      ]
     },
     "execution_count": 10,
     "metadata": {},
     "output_type": "execute_result"
    }
   ],
   "source": [
    "#count of gender column\n",
    "credit_scoring_eng['gender'].value_counts()"
   ]
  },
  {
   "cell_type": "code",
   "execution_count": 11,
   "metadata": {},
   "outputs": [
    {
     "name": "stdout",
     "output_type": "stream",
     "text": [
      "['XNA']\n"
     ]
    }
   ],
   "source": [
    "#Detecting problem entries\n",
    "problem_entries = []\n",
    "\n",
    "for row in credit_scoring_eng['gender']:\n",
    "    if (row != 'F') & (row != 'M'):\n",
    "        problem_entries.append(row)\n",
    "print(problem_entries)"
   ]
  },
  {
   "cell_type": "markdown",
   "metadata": {},
   "source": [
    "### Conclusion\n",
    "There are total 21525 rows and 12 columns. Each columns consist of: int64,float64 & object datatype.\n",
    "\n",
    "Descriptive statistics: shows \"number of children in a family\" max count is 20 & min count is -1 which is outlier. \n",
    "\n",
    "Family_status: Consist of 5 categories among them 57% is under married categories.\n",
    "Income_type: Consist of 8 categories among them 51% is under emplyeed categories.\n",
    "Also we get to know that gender column had 'XNA' value apart from male and female.\n",
    "\n",
    "In 'credit_scoring_eng' dataset. How long the customers has been working & total income column both are in negative. That is not possible as number of days people working and their income cannot be in negative.So converted into positive. As negative numbers will impact in arithmatic calcultion."
   ]
  },
  {
   "cell_type": "markdown",
   "metadata": {},
   "source": [
    "## Step 2. Data preprocessing"
   ]
  },
  {
   "cell_type": "markdown",
   "metadata": {},
   "source": [
    "### Preprocessing Missing Value"
   ]
  },
  {
   "cell_type": "code",
   "execution_count": 12,
   "metadata": {},
   "outputs": [],
   "source": [
    "# col 'days_employed' & total_income round the decimal place to 2\n",
    "credit_scoring_eng['days_employed'] = round(credit_scoring_eng['days_employed'],2)\n",
    "credit_scoring_eng['total_income'] = round(credit_scoring_eng['total_income'],2)\n"
   ]
  },
  {
   "cell_type": "code",
   "execution_count": 13,
   "metadata": {},
   "outputs": [
    {
     "data": {
      "text/plain": [
       "children               0\n",
       "days_employed       2174\n",
       "dob_years              0\n",
       "education              0\n",
       "education_id           0\n",
       "family_status          0\n",
       "family_status_id       0\n",
       "gender                 0\n",
       "income_type            0\n",
       "debt                   0\n",
       "total_income        2174\n",
       "purpose                0\n",
       "dtype: int64"
      ]
     },
     "execution_count": 13,
     "metadata": {},
     "output_type": "execute_result"
    }
   ],
   "source": [
    "#number of missing values per column\n",
    "credit_scoring_eng.isna().sum()"
   ]
  },
  {
   "cell_type": "code",
   "execution_count": 14,
   "metadata": {},
   "outputs": [],
   "source": [
    "#creating a copy of orignal data\n",
    "credit_scoring_eng_copy = credit_scoring_eng.copy()"
   ]
  },
  {
   "cell_type": "code",
   "execution_count": 15,
   "metadata": {},
   "outputs": [
    {
     "name": "stdout",
     "output_type": "stream",
     "text": [
      "These are the means:\n",
      "        days_employed  total_income\n",
      "gender                             \n",
      "F        82397.770912  24655.604746\n",
      "M        37000.331279  30907.144339\n",
      "XNA       2358.600000  32624.820000\n",
      "\n",
      "These are the medians:\n",
      "        days_employed  total_income\n",
      "gender                             \n",
      "F            2539.855     21464.840\n",
      "M            1662.370     26834.295\n",
      "XNA          2358.600     32624.820\n"
     ]
    }
   ],
   "source": [
    "#group data by gender and print mean & median of num_colums\n",
    "num_columns = ['days_employed','total_income']\n",
    "print('These are the means:')\n",
    "print(credit_scoring_eng_copy.groupby('gender')[num_columns].mean())\n",
    "print()\n",
    "print('These are the medians:')\n",
    "print(credit_scoring_eng_copy.groupby('gender')[num_columns].median())"
   ]
  },
  {
   "cell_type": "code",
   "execution_count": 16,
   "metadata": {},
   "outputs": [
    {
     "name": "stdout",
     "output_type": "stream",
     "text": [
      "Count of missing days_employed by Gender\n",
      "F    1484\n",
      "M     690\n",
      "Name: gender, dtype: int64\n",
      "Count of missing total_income by Gender\n",
      "F    1484\n",
      "M     690\n",
      "Name: gender, dtype: int64\n"
     ]
    }
   ],
   "source": [
    "#group data & see the count of missing values in the two column\n",
    "print('Count of missing days_employed by Gender')\n",
    "print(credit_scoring_eng_copy[credit_scoring_eng_copy['days_employed'].isnull()]['gender'].value_counts())\n",
    "\n",
    "print('Count of missing total_income by Gender')\n",
    "print(credit_scoring_eng_copy[credit_scoring_eng_copy['total_income'].isnull()]['gender'].value_counts())"
   ]
  },
  {
   "cell_type": "code",
   "execution_count": 17,
   "metadata": {},
   "outputs": [
    {
     "data": {
      "text/html": [
       "<div>\n",
       "<style scoped>\n",
       "    .dataframe tbody tr th:only-of-type {\n",
       "        vertical-align: middle;\n",
       "    }\n",
       "\n",
       "    .dataframe tbody tr th {\n",
       "        vertical-align: top;\n",
       "    }\n",
       "\n",
       "    .dataframe thead th {\n",
       "        text-align: right;\n",
       "    }\n",
       "</style>\n",
       "<table border=\"1\" class=\"dataframe\">\n",
       "  <thead>\n",
       "    <tr style=\"text-align: right;\">\n",
       "      <th></th>\n",
       "      <th>children</th>\n",
       "      <th>days_employed</th>\n",
       "      <th>dob_years</th>\n",
       "      <th>education</th>\n",
       "      <th>education_id</th>\n",
       "      <th>family_status</th>\n",
       "      <th>family_status_id</th>\n",
       "      <th>gender</th>\n",
       "      <th>income_type</th>\n",
       "      <th>debt</th>\n",
       "      <th>total_income</th>\n",
       "      <th>purpose</th>\n",
       "    </tr>\n",
       "  </thead>\n",
       "  <tbody>\n",
       "    <tr>\n",
       "      <th>0</th>\n",
       "      <td>1</td>\n",
       "      <td>8437.67</td>\n",
       "      <td>42</td>\n",
       "      <td>bachelor's degree</td>\n",
       "      <td>0</td>\n",
       "      <td>married</td>\n",
       "      <td>0</td>\n",
       "      <td>F</td>\n",
       "      <td>employee</td>\n",
       "      <td>0</td>\n",
       "      <td>40620.1</td>\n",
       "      <td>purchase of the house</td>\n",
       "    </tr>\n",
       "    <tr>\n",
       "      <th>1</th>\n",
       "      <td>1</td>\n",
       "      <td>4024.80</td>\n",
       "      <td>36</td>\n",
       "      <td>secondary education</td>\n",
       "      <td>1</td>\n",
       "      <td>married</td>\n",
       "      <td>0</td>\n",
       "      <td>F</td>\n",
       "      <td>employee</td>\n",
       "      <td>0</td>\n",
       "      <td>17932.8</td>\n",
       "      <td>car purchase</td>\n",
       "    </tr>\n",
       "  </tbody>\n",
       "</table>\n",
       "</div>"
      ],
      "text/plain": [
       "   children  days_employed  dob_years            education  education_id  \\\n",
       "0         1        8437.67         42    bachelor's degree             0   \n",
       "1         1        4024.80         36  secondary education             1   \n",
       "\n",
       "  family_status  family_status_id gender income_type  debt  total_income  \\\n",
       "0       married                 0      F    employee     0       40620.1   \n",
       "1       married                 0      F    employee     0       17932.8   \n",
       "\n",
       "                 purpose  \n",
       "0  purchase of the house  \n",
       "1           car purchase  "
      ]
     },
     "execution_count": 17,
     "metadata": {},
     "output_type": "execute_result"
    }
   ],
   "source": [
    "#calculate & fill missing values for days_employed & total_income with mean & meadian\n",
    "# Calculate values\n",
    "Mediandaysemployed = credit_scoring_eng_copy['days_employed'].median()\n",
    "Meantotalincome = credit_scoring_eng_copy['total_income'].mean()\n",
    "Meandobyears = credit_scoring_eng_copy['dob_years'].mean()\n",
    "\n",
    "credit_scoring_eng_copy.fillna(value= {'days_employed':Mediandaysemployed,'total_income':Meantotalincome,'dob_years':Meandobyears }, inplace = True)\n",
    "credit_scoring_eng_copy.head(2)"
   ]
  },
  {
   "cell_type": "code",
   "execution_count": 18,
   "metadata": {},
   "outputs": [],
   "source": [
    "# number of children in a family 20 replacing it with 2\n",
    "credit_scoring_eng_copy.loc[credit_scoring_eng_copy['children'] == 20] = 2"
   ]
  },
  {
   "cell_type": "code",
   "execution_count": 19,
   "metadata": {},
   "outputs": [
    {
     "data": {
      "text/plain": [
       "children            0\n",
       "days_employed       0\n",
       "dob_years           0\n",
       "education           0\n",
       "education_id        0\n",
       "family_status       0\n",
       "family_status_id    0\n",
       "gender              0\n",
       "income_type         0\n",
       "debt                0\n",
       "total_income        0\n",
       "purpose             0\n",
       "dtype: int64"
      ]
     },
     "execution_count": 19,
     "metadata": {},
     "output_type": "execute_result"
    }
   ],
   "source": [
    "#Check if there is any missing value\n",
    "credit_scoring_eng_copy.isnull().sum()"
   ]
  },
  {
   "cell_type": "markdown",
   "metadata": {},
   "source": [
    "#### Conclusion\n",
    "\n",
    "\"days_employed\" & \"total_income\" column was float type so round the decimal place to 2.\n",
    "\n",
    "Two Column has missing value i.e. 'days_imployed' & 'total_income'.  10% of row in \"total_income\" column has missing value and that is replaced by mean. In case of days_employed also have 10% of row missing and that is replaced by median.'dob_years' had age 0 which is not possible and so this was replaced by mean age.'no of children in family is' 20 & -1 which is also not possible, so converted -1 to 1 & 20 to 2\n",
    "\n",
    "Reason for 'children' column: this can be typo error (instead of 1 it was -1 & instead of 2 it was 20) that could be the possible reason.\n",
    "\n",
    "Reason for 'days_imployed', 'total_income' & 'dob_years' column: the vaues were missing because peple sometimes forget to mention or don't want to specify thier income, age & no of days employed. \n",
    "\n",
    "The means and medians are roughly equal for total_income & dob_years that means there are no outliers in this two columns so filled the missing value by mean.\n",
    "For days_employed the mean is higher than the median that implies that it has outliers in this column so filled the missing vaue by median.\n"
   ]
  },
  {
   "cell_type": "markdown",
   "metadata": {},
   "source": [
    "### Data type replacement"
   ]
  },
  {
   "cell_type": "code",
   "execution_count": 20,
   "metadata": {},
   "outputs": [
    {
     "name": "stdout",
     "output_type": "stream",
     "text": [
      "<class 'pandas.core.frame.DataFrame'>\n",
      "RangeIndex: 21525 entries, 0 to 21524\n",
      "Data columns (total 12 columns):\n",
      " #   Column            Non-Null Count  Dtype  \n",
      "---  ------            --------------  -----  \n",
      " 0   children          21525 non-null  int64  \n",
      " 1   days_employed     21525 non-null  float64\n",
      " 2   dob_years         21525 non-null  int64  \n",
      " 3   education         21525 non-null  object \n",
      " 4   education_id      21525 non-null  int64  \n",
      " 5   family_status     21525 non-null  object \n",
      " 6   family_status_id  21525 non-null  int64  \n",
      " 7   gender            21525 non-null  object \n",
      " 8   income_type       21525 non-null  object \n",
      " 9   debt              21525 non-null  int64  \n",
      " 10  total_income      21525 non-null  float64\n",
      " 11  purpose           21525 non-null  object \n",
      "dtypes: float64(2), int64(5), object(5)\n",
      "memory usage: 2.0+ MB\n"
     ]
    }
   ],
   "source": [
    "# checking the datatype\n",
    "credit_scoring_eng_copy.info()"
   ]
  },
  {
   "cell_type": "code",
   "execution_count": 21,
   "metadata": {},
   "outputs": [
    {
     "name": "stdout",
     "output_type": "stream",
     "text": [
      "<class 'pandas.core.frame.DataFrame'>\n",
      "RangeIndex: 21525 entries, 0 to 21524\n",
      "Data columns (total 12 columns):\n",
      " #   Column            Non-Null Count  Dtype \n",
      "---  ------            --------------  ----- \n",
      " 0   children          21525 non-null  int64 \n",
      " 1   days_employed     21525 non-null  int64 \n",
      " 2   dob_years         21525 non-null  int64 \n",
      " 3   education         21525 non-null  object\n",
      " 4   education_id      21525 non-null  int64 \n",
      " 5   family_status     21525 non-null  object\n",
      " 6   family_status_id  21525 non-null  int64 \n",
      " 7   gender            21525 non-null  object\n",
      " 8   income_type       21525 non-null  object\n",
      " 9   debt              21525 non-null  int64 \n",
      " 10  total_income      21525 non-null  int64 \n",
      " 11  purpose           21525 non-null  object\n",
      "dtypes: int64(7), object(5)\n",
      "memory usage: 2.0+ MB\n"
     ]
    }
   ],
   "source": [
    "#transform from float to int type\n",
    "credit_scoring_eng_copy['total_income']=credit_scoring_eng_copy['total_income'].astype('int64')\n",
    "credit_scoring_eng_copy['days_employed'] = credit_scoring_eng_copy['days_employed'].astype('int64')\n",
    "\n",
    "credit_scoring_eng_copy.info()"
   ]
  },
  {
   "cell_type": "markdown",
   "metadata": {},
   "source": [
    "#### Conclusion\n",
    "\n",
    "Converted  'total_income' & 'days_employed' to integer type. These columns were converted because float-point could be much slower than integer arithmetic. "
   ]
  },
  {
   "cell_type": "markdown",
   "metadata": {},
   "source": [
    "### Processing duplicates"
   ]
  },
  {
   "cell_type": "code",
   "execution_count": 22,
   "metadata": {},
   "outputs": [
    {
     "data": {
      "text/plain": [
       "('Duplicate entries in row:', 129)"
      ]
     },
     "execution_count": 22,
     "metadata": {},
     "output_type": "execute_result"
    }
   ],
   "source": [
    "#No of duplicate entries in dataset\n",
    "'Duplicate entries in row:', credit_scoring_eng_copy.duplicated().sum()"
   ]
  },
  {
   "cell_type": "code",
   "execution_count": 23,
   "metadata": {},
   "outputs": [
    {
     "data": {
      "text/plain": [
       "21471"
      ]
     },
     "execution_count": 23,
     "metadata": {},
     "output_type": "execute_result"
    }
   ],
   "source": [
    "credit_scoring_removed_duplicated = credit_scoring_eng.drop_duplicates()\n",
    "len(credit_scoring_removed_duplicated)"
   ]
  },
  {
   "cell_type": "code",
   "execution_count": 24,
   "metadata": {},
   "outputs": [
    {
     "data": {
      "text/plain": [
       "F    14189\n",
       "M     7281\n",
       "Name: gender, dtype: int64"
      ]
     },
     "execution_count": 24,
     "metadata": {},
     "output_type": "execute_result"
    }
   ],
   "source": [
    "# drop XNA from gender column\n",
    "credit_scoring_removed_duplicated = credit_scoring_removed_duplicated[(credit_scoring_removed_duplicated['gender'] == 'M') | (credit_scoring_removed_duplicated['gender'] == 'F')]\n",
    "credit_scoring_removed_duplicated['gender'].value_counts()"
   ]
  },
  {
   "cell_type": "markdown",
   "metadata": {},
   "source": [
    "#### Conclusion\n",
    "\n",
    "There were 129 rows duplicated. That means 0.59% of a variable is duplicated, delete the variable entirely.\n",
    "Used drop_duplicates methods to repmove the duplicate as this method will return a new dataframe without the duplicates and then saved this into a new dataframe called 'credit_scoring_removed_duplicated'.\n",
    "\n",
    "Possible reason for the appearence of duplicate data: Effective matching customers require multiple data points but if records does't have enough data points to match multiple customers may be associated with same records.\n",
    "\n",
    "Dropped the row contaning 'XNA' in gender column.\n"
   ]
  },
  {
   "cell_type": "markdown",
   "metadata": {},
   "source": [
    "### Categorizing Data"
   ]
  },
  {
   "cell_type": "code",
   "execution_count": 25,
   "metadata": {},
   "outputs": [
    {
     "data": {
      "text/html": [
       "<div>\n",
       "<style scoped>\n",
       "    .dataframe tbody tr th:only-of-type {\n",
       "        vertical-align: middle;\n",
       "    }\n",
       "\n",
       "    .dataframe tbody tr th {\n",
       "        vertical-align: top;\n",
       "    }\n",
       "\n",
       "    .dataframe thead th {\n",
       "        text-align: right;\n",
       "    }\n",
       "</style>\n",
       "<table border=\"1\" class=\"dataframe\">\n",
       "  <thead>\n",
       "    <tr style=\"text-align: right;\">\n",
       "      <th></th>\n",
       "      <th>children</th>\n",
       "      <th>days_employed</th>\n",
       "      <th>dob_years</th>\n",
       "      <th>education</th>\n",
       "      <th>education_id</th>\n",
       "      <th>family_status</th>\n",
       "      <th>family_status_id</th>\n",
       "      <th>gender</th>\n",
       "      <th>income_type</th>\n",
       "      <th>debt</th>\n",
       "      <th>total_income</th>\n",
       "      <th>purpose</th>\n",
       "      <th>income_level</th>\n",
       "    </tr>\n",
       "  </thead>\n",
       "  <tbody>\n",
       "    <tr>\n",
       "      <th>0</th>\n",
       "      <td>1</td>\n",
       "      <td>8437.67</td>\n",
       "      <td>42</td>\n",
       "      <td>bachelor's degree</td>\n",
       "      <td>0</td>\n",
       "      <td>married</td>\n",
       "      <td>0</td>\n",
       "      <td>F</td>\n",
       "      <td>employee</td>\n",
       "      <td>0</td>\n",
       "      <td>40620.10</td>\n",
       "      <td>purchase of the house</td>\n",
       "      <td>very_high</td>\n",
       "    </tr>\n",
       "    <tr>\n",
       "      <th>1</th>\n",
       "      <td>1</td>\n",
       "      <td>4024.80</td>\n",
       "      <td>36</td>\n",
       "      <td>secondary education</td>\n",
       "      <td>1</td>\n",
       "      <td>married</td>\n",
       "      <td>0</td>\n",
       "      <td>F</td>\n",
       "      <td>employee</td>\n",
       "      <td>0</td>\n",
       "      <td>17932.80</td>\n",
       "      <td>car purchase</td>\n",
       "      <td>medium</td>\n",
       "    </tr>\n",
       "    <tr>\n",
       "      <th>2</th>\n",
       "      <td>0</td>\n",
       "      <td>5623.42</td>\n",
       "      <td>33</td>\n",
       "      <td>Secondary Education</td>\n",
       "      <td>1</td>\n",
       "      <td>married</td>\n",
       "      <td>0</td>\n",
       "      <td>M</td>\n",
       "      <td>employee</td>\n",
       "      <td>0</td>\n",
       "      <td>23341.75</td>\n",
       "      <td>purchase of the house</td>\n",
       "      <td>high</td>\n",
       "    </tr>\n",
       "    <tr>\n",
       "      <th>3</th>\n",
       "      <td>3</td>\n",
       "      <td>4124.75</td>\n",
       "      <td>32</td>\n",
       "      <td>secondary education</td>\n",
       "      <td>1</td>\n",
       "      <td>married</td>\n",
       "      <td>0</td>\n",
       "      <td>M</td>\n",
       "      <td>employee</td>\n",
       "      <td>0</td>\n",
       "      <td>42820.57</td>\n",
       "      <td>supplementary education</td>\n",
       "      <td>very_high</td>\n",
       "    </tr>\n",
       "    <tr>\n",
       "      <th>4</th>\n",
       "      <td>0</td>\n",
       "      <td>340266.07</td>\n",
       "      <td>53</td>\n",
       "      <td>secondary education</td>\n",
       "      <td>1</td>\n",
       "      <td>civil partnership</td>\n",
       "      <td>1</td>\n",
       "      <td>F</td>\n",
       "      <td>retiree</td>\n",
       "      <td>0</td>\n",
       "      <td>25378.57</td>\n",
       "      <td>to have a wedding</td>\n",
       "      <td>high</td>\n",
       "    </tr>\n",
       "  </tbody>\n",
       "</table>\n",
       "</div>"
      ],
      "text/plain": [
       "   children  days_employed  dob_years            education  education_id  \\\n",
       "0         1        8437.67         42    bachelor's degree             0   \n",
       "1         1        4024.80         36  secondary education             1   \n",
       "2         0        5623.42         33  Secondary Education             1   \n",
       "3         3        4124.75         32  secondary education             1   \n",
       "4         0      340266.07         53  secondary education             1   \n",
       "\n",
       "       family_status  family_status_id gender income_type  debt  total_income  \\\n",
       "0            married                 0      F    employee     0      40620.10   \n",
       "1            married                 0      F    employee     0      17932.80   \n",
       "2            married                 0      M    employee     0      23341.75   \n",
       "3            married                 0      M    employee     0      42820.57   \n",
       "4  civil partnership                 1      F     retiree     0      25378.57   \n",
       "\n",
       "                   purpose income_level  \n",
       "0    purchase of the house    very_high  \n",
       "1             car purchase       medium  \n",
       "2    purchase of the house         high  \n",
       "3  supplementary education    very_high  \n",
       "4        to have a wedding         high  "
      ]
     },
     "execution_count": 25,
     "metadata": {},
     "output_type": "execute_result"
    }
   ],
   "source": [
    "#Returns the category of income_level for the total_income column\n",
    "def income_level(total_income):\n",
    "    if (total_income > credit_scoring_removed_duplicated['total_income'].quantile(0.25)) & (total_income <= credit_scoring_eng['total_income'].quantile(0.50)):\n",
    "        return 'medium'\n",
    "    if total_income <= credit_scoring_removed_duplicated['total_income'].quantile(0.25):\n",
    "        return 'low'\n",
    "    if total_income <= credit_scoring_removed_duplicated['total_income'].quantile(0.75):\n",
    "        return 'high'\n",
    "    return 'very_high'\n",
    "\n",
    "credit_scoring_removed_duplicated['income_level'] = credit_scoring_removed_duplicated['total_income'].apply(income_level)\n",
    "credit_scoring_removed_duplicated.head()"
   ]
  },
  {
   "cell_type": "code",
   "execution_count": 26,
   "metadata": {},
   "outputs": [
    {
     "data": {
      "text/html": [
       "<div>\n",
       "<style scoped>\n",
       "    .dataframe tbody tr th:only-of-type {\n",
       "        vertical-align: middle;\n",
       "    }\n",
       "\n",
       "    .dataframe tbody tr th {\n",
       "        vertical-align: top;\n",
       "    }\n",
       "\n",
       "    .dataframe thead th {\n",
       "        text-align: right;\n",
       "    }\n",
       "</style>\n",
       "<table border=\"1\" class=\"dataframe\">\n",
       "  <thead>\n",
       "    <tr style=\"text-align: right;\">\n",
       "      <th></th>\n",
       "      <th>children</th>\n",
       "      <th>days_employed</th>\n",
       "      <th>dob_years</th>\n",
       "      <th>education</th>\n",
       "      <th>education_id</th>\n",
       "      <th>family_status</th>\n",
       "      <th>family_status_id</th>\n",
       "      <th>gender</th>\n",
       "      <th>income_type</th>\n",
       "      <th>debt</th>\n",
       "      <th>total_income</th>\n",
       "      <th>purpose</th>\n",
       "      <th>income_level</th>\n",
       "      <th>purpose_category</th>\n",
       "    </tr>\n",
       "  </thead>\n",
       "  <tbody>\n",
       "    <tr>\n",
       "      <th>0</th>\n",
       "      <td>1</td>\n",
       "      <td>8437.67</td>\n",
       "      <td>42</td>\n",
       "      <td>bachelor's degree</td>\n",
       "      <td>0</td>\n",
       "      <td>married</td>\n",
       "      <td>0</td>\n",
       "      <td>F</td>\n",
       "      <td>employee</td>\n",
       "      <td>0</td>\n",
       "      <td>40620.10</td>\n",
       "      <td>purchase of the house</td>\n",
       "      <td>very_high</td>\n",
       "      <td>house</td>\n",
       "    </tr>\n",
       "    <tr>\n",
       "      <th>1</th>\n",
       "      <td>1</td>\n",
       "      <td>4024.80</td>\n",
       "      <td>36</td>\n",
       "      <td>secondary education</td>\n",
       "      <td>1</td>\n",
       "      <td>married</td>\n",
       "      <td>0</td>\n",
       "      <td>F</td>\n",
       "      <td>employee</td>\n",
       "      <td>0</td>\n",
       "      <td>17932.80</td>\n",
       "      <td>car purchase</td>\n",
       "      <td>medium</td>\n",
       "      <td>car</td>\n",
       "    </tr>\n",
       "    <tr>\n",
       "      <th>2</th>\n",
       "      <td>0</td>\n",
       "      <td>5623.42</td>\n",
       "      <td>33</td>\n",
       "      <td>Secondary Education</td>\n",
       "      <td>1</td>\n",
       "      <td>married</td>\n",
       "      <td>0</td>\n",
       "      <td>M</td>\n",
       "      <td>employee</td>\n",
       "      <td>0</td>\n",
       "      <td>23341.75</td>\n",
       "      <td>purchase of the house</td>\n",
       "      <td>high</td>\n",
       "      <td>house</td>\n",
       "    </tr>\n",
       "    <tr>\n",
       "      <th>3</th>\n",
       "      <td>3</td>\n",
       "      <td>4124.75</td>\n",
       "      <td>32</td>\n",
       "      <td>secondary education</td>\n",
       "      <td>1</td>\n",
       "      <td>married</td>\n",
       "      <td>0</td>\n",
       "      <td>M</td>\n",
       "      <td>employee</td>\n",
       "      <td>0</td>\n",
       "      <td>42820.57</td>\n",
       "      <td>supplementary education</td>\n",
       "      <td>very_high</td>\n",
       "      <td>education</td>\n",
       "    </tr>\n",
       "    <tr>\n",
       "      <th>4</th>\n",
       "      <td>0</td>\n",
       "      <td>340266.07</td>\n",
       "      <td>53</td>\n",
       "      <td>secondary education</td>\n",
       "      <td>1</td>\n",
       "      <td>civil partnership</td>\n",
       "      <td>1</td>\n",
       "      <td>F</td>\n",
       "      <td>retiree</td>\n",
       "      <td>0</td>\n",
       "      <td>25378.57</td>\n",
       "      <td>to have a wedding</td>\n",
       "      <td>high</td>\n",
       "      <td>wedding</td>\n",
       "    </tr>\n",
       "  </tbody>\n",
       "</table>\n",
       "</div>"
      ],
      "text/plain": [
       "   children  days_employed  dob_years            education  education_id  \\\n",
       "0         1        8437.67         42    bachelor's degree             0   \n",
       "1         1        4024.80         36  secondary education             1   \n",
       "2         0        5623.42         33  Secondary Education             1   \n",
       "3         3        4124.75         32  secondary education             1   \n",
       "4         0      340266.07         53  secondary education             1   \n",
       "\n",
       "       family_status  family_status_id gender income_type  debt  total_income  \\\n",
       "0            married                 0      F    employee     0      40620.10   \n",
       "1            married                 0      F    employee     0      17932.80   \n",
       "2            married                 0      M    employee     0      23341.75   \n",
       "3            married                 0      M    employee     0      42820.57   \n",
       "4  civil partnership                 1      F     retiree     0      25378.57   \n",
       "\n",
       "                   purpose income_level purpose_category  \n",
       "0    purchase of the house    very_high            house  \n",
       "1             car purchase       medium              car  \n",
       "2    purchase of the house         high            house  \n",
       "3  supplementary education    very_high        education  \n",
       "4        to have a wedding         high          wedding  "
      ]
     },
     "execution_count": 26,
     "metadata": {},
     "output_type": "execute_result"
    }
   ],
   "source": [
    "#Returns purpose_category for the purpose column\n",
    "purpose= credit_scoring_removed_duplicated['purpose']\n",
    "\n",
    "\n",
    "def get_purpose_category(purpose):\n",
    "    if 'wedding' in purpose:\n",
    "        return 'wedding'\n",
    "    if 'house' in purpose:\n",
    "        return 'house'\n",
    "    if 'real estate' in purpose:\n",
    "        return 'real estate'\n",
    "    if 'property' in purpose:\n",
    "        return 'property'\n",
    "    if 'car' in purpose:\n",
    "        return 'car'\n",
    "    if 'cars' in purpose:\n",
    "        return 'car'\n",
    "    if 'education' in purpose:\n",
    "        return 'education'\n",
    "    if 'university' in purpose:\n",
    "        return 'education'\n",
    "    if 'educated' in purpose:\n",
    "        return 'education'\n",
    "    if 'housing' in purpose:\n",
    "        return 'house'\n",
    "    \n",
    "    #return 'default'\n",
    "    \n",
    "credit_scoring_removed_duplicated['purpose_category'] = credit_scoring_removed_duplicated['purpose'].apply(get_purpose_category)\n",
    "credit_scoring_removed_duplicated.head()"
   ]
  },
  {
   "cell_type": "code",
   "execution_count": 27,
   "metadata": {},
   "outputs": [
    {
     "data": {
      "text/html": [
       "<div>\n",
       "<style scoped>\n",
       "    .dataframe tbody tr th:only-of-type {\n",
       "        vertical-align: middle;\n",
       "    }\n",
       "\n",
       "    .dataframe tbody tr th {\n",
       "        vertical-align: top;\n",
       "    }\n",
       "\n",
       "    .dataframe thead th {\n",
       "        text-align: right;\n",
       "    }\n",
       "</style>\n",
       "<table border=\"1\" class=\"dataframe\">\n",
       "  <thead>\n",
       "    <tr style=\"text-align: right;\">\n",
       "      <th>debt</th>\n",
       "      <th>family_status</th>\n",
       "      <th>children</th>\n",
       "      <th>0</th>\n",
       "      <th>1</th>\n",
       "    </tr>\n",
       "  </thead>\n",
       "  <tbody>\n",
       "    <tr>\n",
       "      <th>0</th>\n",
       "      <td>civil partnership</td>\n",
       "      <td>0</td>\n",
       "      <td>26514.971544</td>\n",
       "      <td>25590.672376</td>\n",
       "    </tr>\n",
       "    <tr>\n",
       "      <th>1</th>\n",
       "      <td>civil partnership</td>\n",
       "      <td>1</td>\n",
       "      <td>27415.637237</td>\n",
       "      <td>25288.857843</td>\n",
       "    </tr>\n",
       "    <tr>\n",
       "      <th>2</th>\n",
       "      <td>civil partnership</td>\n",
       "      <td>2</td>\n",
       "      <td>27010.303584</td>\n",
       "      <td>27708.046538</td>\n",
       "    </tr>\n",
       "    <tr>\n",
       "      <th>3</th>\n",
       "      <td>civil partnership</td>\n",
       "      <td>3</td>\n",
       "      <td>29928.843077</td>\n",
       "      <td>18014.515000</td>\n",
       "    </tr>\n",
       "    <tr>\n",
       "      <th>4</th>\n",
       "      <td>civil partnership</td>\n",
       "      <td>4</td>\n",
       "      <td>26507.737143</td>\n",
       "      <td>NaN</td>\n",
       "    </tr>\n",
       "  </tbody>\n",
       "</table>\n",
       "</div>"
      ],
      "text/plain": [
       "debt      family_status  children             0             1\n",
       "0     civil partnership         0  26514.971544  25590.672376\n",
       "1     civil partnership         1  27415.637237  25288.857843\n",
       "2     civil partnership         2  27010.303584  27708.046538\n",
       "3     civil partnership         3  29928.843077  18014.515000\n",
       "4     civil partnership         4  26507.737143           NaN"
      ]
     },
     "execution_count": 27,
     "metadata": {},
     "output_type": "execute_result"
    }
   ],
   "source": [
    "# mean of total_income categoried as per family_status & children\n",
    "data_pivot = credit_scoring_removed_duplicated.pivot_table(index=['family_status','children'],columns='debt', values='total_income', aggfunc='mean')\n",
    "data_pivot_reset_index = data_pivot.reset_index()\n",
    "data_pivot_reset_index.head()"
   ]
  },
  {
   "cell_type": "code",
   "execution_count": 28,
   "metadata": {},
   "outputs": [
    {
     "data": {
      "text/html": [
       "<div>\n",
       "<style scoped>\n",
       "    .dataframe tbody tr th:only-of-type {\n",
       "        vertical-align: middle;\n",
       "    }\n",
       "\n",
       "    .dataframe tbody tr th {\n",
       "        vertical-align: top;\n",
       "    }\n",
       "\n",
       "    .dataframe thead th {\n",
       "        text-align: right;\n",
       "    }\n",
       "</style>\n",
       "<table border=\"1\" class=\"dataframe\">\n",
       "  <thead>\n",
       "    <tr style=\"text-align: right;\">\n",
       "      <th>debt</th>\n",
       "      <th>family_status</th>\n",
       "      <th>children</th>\n",
       "      <th>0</th>\n",
       "      <th>1</th>\n",
       "      <th>avg_income_per_person</th>\n",
       "    </tr>\n",
       "  </thead>\n",
       "  <tbody>\n",
       "    <tr>\n",
       "      <th>0</th>\n",
       "      <td>civil partnership</td>\n",
       "      <td>0</td>\n",
       "      <td>26514.971544</td>\n",
       "      <td>25590.672376</td>\n",
       "      <td>12795.336188</td>\n",
       "    </tr>\n",
       "    <tr>\n",
       "      <th>1</th>\n",
       "      <td>civil partnership</td>\n",
       "      <td>1</td>\n",
       "      <td>27415.637237</td>\n",
       "      <td>25288.857843</td>\n",
       "      <td>8429.619281</td>\n",
       "    </tr>\n",
       "    <tr>\n",
       "      <th>2</th>\n",
       "      <td>civil partnership</td>\n",
       "      <td>2</td>\n",
       "      <td>27010.303584</td>\n",
       "      <td>27708.046538</td>\n",
       "      <td>6927.011635</td>\n",
       "    </tr>\n",
       "    <tr>\n",
       "      <th>3</th>\n",
       "      <td>civil partnership</td>\n",
       "      <td>3</td>\n",
       "      <td>29928.843077</td>\n",
       "      <td>18014.515000</td>\n",
       "      <td>3602.903000</td>\n",
       "    </tr>\n",
       "    <tr>\n",
       "      <th>4</th>\n",
       "      <td>civil partnership</td>\n",
       "      <td>4</td>\n",
       "      <td>26507.737143</td>\n",
       "      <td>NaN</td>\n",
       "      <td>NaN</td>\n",
       "    </tr>\n",
       "  </tbody>\n",
       "</table>\n",
       "</div>"
      ],
      "text/plain": [
       "debt      family_status  children             0             1  \\\n",
       "0     civil partnership         0  26514.971544  25590.672376   \n",
       "1     civil partnership         1  27415.637237  25288.857843   \n",
       "2     civil partnership         2  27010.303584  27708.046538   \n",
       "3     civil partnership         3  29928.843077  18014.515000   \n",
       "4     civil partnership         4  26507.737143           NaN   \n",
       "\n",
       "debt  avg_income_per_person  \n",
       "0              12795.336188  \n",
       "1               8429.619281  \n",
       "2               6927.011635  \n",
       "3               3602.903000  \n",
       "4                       NaN  "
      ]
     },
     "execution_count": 28,
     "metadata": {},
     "output_type": "execute_result"
    }
   ],
   "source": [
    "# Convert the pivot table to dataframe for calculating avg_income_per_person\n",
    "data_pivot_dataframe = pd.DataFrame(data_pivot_reset_index)\n",
    "\n",
    "data_pivot_dataframe.loc[(data_pivot_dataframe['family_status'] == 'civil partnership') | (data_pivot_dataframe['family_status'] == 'married'),'avg_income_per_person'] = data_pivot_dataframe[1]/(data_pivot_dataframe['children'] +2)\n",
    "data_pivot_dataframe.loc[(data_pivot_dataframe['family_status'] == 'divorced') | (data_pivot_dataframe['family_status'] == 'widow / widower')|(data_pivot_dataframe['family_status'] == 'unmarried'),'avg_income_per_person'] = data_pivot_dataframe[1]/(data_pivot_dataframe['children'] +1)\n",
    "data_pivot_dataframe.head()"
   ]
  },
  {
   "cell_type": "markdown",
   "metadata": {},
   "source": [
    "#### Conclusion\n",
    "Categorised 'tota_income' column into low, medium , high & ver high income group.This was done on the basis of median and saved this into another column named 'income_level'.\n",
    "Categorised 'purpose' column into different level of categories based on similar words from the purpose column.This data was saved into another column named 'purpose_category'.\n",
    "\n",
    "By categorising the data created two columns named: 'income_level' & 'purpose_category'.\n",
    "This was help us in futher analysis based on catagory.\n",
    "\n",
    "Using pivot table: Aggregated the data & summarised it by grouping the 'family_status' with thier 'children'.'debt' provides an dditional way to segment the actual value we care. The column 'total_income' we see the average total income group wise.\n",
    "From pivot table calculating average income per person. Using this average income per person will check the relationship if that particular category and repaying a loan has some relationship or not."
   ]
  },
  {
   "cell_type": "markdown",
   "metadata": {},
   "source": [
    "## Step 3. Answer these questions"
   ]
  },
  {
   "cell_type": "markdown",
   "metadata": {},
   "source": [
    "### Is there a relation between having kids and repaying a loan on time?"
   ]
  },
  {
   "cell_type": "code",
   "execution_count": 29,
   "metadata": {},
   "outputs": [
    {
     "data": {
      "text/plain": [
       "0     14106\n",
       "1      4856\n",
       "2      2052\n",
       "3       330\n",
       "20       76\n",
       "4        41\n",
       "5         9\n",
       "Name: children, dtype: int64"
      ]
     },
     "execution_count": 29,
     "metadata": {},
     "output_type": "execute_result"
    }
   ],
   "source": [
    "credit_scoring_removed_duplicated['children'].value_counts()"
   ]
  },
  {
   "cell_type": "code",
   "execution_count": 30,
   "metadata": {},
   "outputs": [
    {
     "data": {
      "text/html": [
       "<div>\n",
       "<style scoped>\n",
       "    .dataframe tbody tr th:only-of-type {\n",
       "        vertical-align: middle;\n",
       "    }\n",
       "\n",
       "    .dataframe tbody tr th {\n",
       "        vertical-align: top;\n",
       "    }\n",
       "\n",
       "    .dataframe thead th {\n",
       "        text-align: right;\n",
       "    }\n",
       "</style>\n",
       "<table border=\"1\" class=\"dataframe\">\n",
       "  <thead>\n",
       "    <tr style=\"text-align: right;\">\n",
       "      <th>debt</th>\n",
       "      <th>children</th>\n",
       "      <th>family_status</th>\n",
       "      <th>0</th>\n",
       "      <th>1</th>\n",
       "    </tr>\n",
       "  </thead>\n",
       "  <tbody>\n",
       "    <tr>\n",
       "      <th>27</th>\n",
       "      <td>20</td>\n",
       "      <td>civil partnership</td>\n",
       "      <td>28298.033750</td>\n",
       "      <td>25238.483333</td>\n",
       "    </tr>\n",
       "    <tr>\n",
       "      <th>28</th>\n",
       "      <td>20</td>\n",
       "      <td>divorced</td>\n",
       "      <td>NaN</td>\n",
       "      <td>23127.120000</td>\n",
       "    </tr>\n",
       "    <tr>\n",
       "      <th>29</th>\n",
       "      <td>20</td>\n",
       "      <td>married</td>\n",
       "      <td>28525.750465</td>\n",
       "      <td>30712.220000</td>\n",
       "    </tr>\n",
       "    <tr>\n",
       "      <th>30</th>\n",
       "      <td>20</td>\n",
       "      <td>unmarried</td>\n",
       "      <td>16173.692000</td>\n",
       "      <td>18841.370000</td>\n",
       "    </tr>\n",
       "    <tr>\n",
       "      <th>31</th>\n",
       "      <td>20</td>\n",
       "      <td>widow / widower</td>\n",
       "      <td>21667.800000</td>\n",
       "      <td>NaN</td>\n",
       "    </tr>\n",
       "  </tbody>\n",
       "</table>\n",
       "</div>"
      ],
      "text/plain": [
       "debt  children      family_status             0             1\n",
       "27          20  civil partnership  28298.033750  25238.483333\n",
       "28          20           divorced           NaN  23127.120000\n",
       "29          20            married  28525.750465  30712.220000\n",
       "30          20          unmarried  16173.692000  18841.370000\n",
       "31          20    widow / widower  21667.800000           NaN"
      ]
     },
     "execution_count": 30,
     "metadata": {},
     "output_type": "execute_result"
    }
   ],
   "source": [
    "data_pivot_children = credit_scoring_removed_duplicated.pivot_table(index=['children','family_status'],columns='debt', values='total_income', aggfunc='mean')\n",
    "data_pivot_with_reset_index_children = data_pivot_children.reset_index()\n",
    "data_pivot_with_reset_index_children.tail(5)"
   ]
  },
  {
   "cell_type": "code",
   "execution_count": 31,
   "metadata": {},
   "outputs": [
    {
     "data": {
      "text/plain": [
       "children\n",
       "0     20273.513706\n",
       "1     11696.098171\n",
       "2      8255.350442\n",
       "3      5219.697143\n",
       "4      4100.149250\n",
       "20     1135.428328\n",
       "Name: avg_income_per_person, dtype: float64"
      ]
     },
     "execution_count": 31,
     "metadata": {},
     "output_type": "execute_result"
    }
   ],
   "source": [
    "data_pivot_dataframe_per_children= data_pivot_dataframe.pivot_table(index= ['children'] ,values ='avg_income_per_person', aggfunc='mean')\n",
    "data_pivot_dataframe_per_children['avg_income_per_person'].sort_values(ascending= False)"
   ]
  },
  {
   "cell_type": "code",
   "execution_count": 32,
   "metadata": {},
   "outputs": [
    {
     "data": {
      "text/html": [
       "<div>\n",
       "<style scoped>\n",
       "    .dataframe tbody tr th:only-of-type {\n",
       "        vertical-align: middle;\n",
       "    }\n",
       "\n",
       "    .dataframe tbody tr th {\n",
       "        vertical-align: top;\n",
       "    }\n",
       "\n",
       "    .dataframe thead th {\n",
       "        text-align: right;\n",
       "    }\n",
       "</style>\n",
       "<table border=\"1\" class=\"dataframe\">\n",
       "  <thead>\n",
       "    <tr style=\"text-align: right;\">\n",
       "      <th>debt</th>\n",
       "      <th>avg_income_per_person</th>\n",
       "      <th>children_impact</th>\n",
       "    </tr>\n",
       "    <tr>\n",
       "      <th>children</th>\n",
       "      <th></th>\n",
       "      <th></th>\n",
       "    </tr>\n",
       "  </thead>\n",
       "  <tbody>\n",
       "    <tr>\n",
       "      <th>0</th>\n",
       "      <td>20273.513706</td>\n",
       "      <td>low_risk</td>\n",
       "    </tr>\n",
       "    <tr>\n",
       "      <th>1</th>\n",
       "      <td>11696.098171</td>\n",
       "      <td>low_risk</td>\n",
       "    </tr>\n",
       "    <tr>\n",
       "      <th>2</th>\n",
       "      <td>8255.350442</td>\n",
       "      <td>low_risk</td>\n",
       "    </tr>\n",
       "    <tr>\n",
       "      <th>3</th>\n",
       "      <td>5219.697143</td>\n",
       "      <td>high_risk</td>\n",
       "    </tr>\n",
       "    <tr>\n",
       "      <th>4</th>\n",
       "      <td>4100.149250</td>\n",
       "      <td>high_risk</td>\n",
       "    </tr>\n",
       "    <tr>\n",
       "      <th>20</th>\n",
       "      <td>1135.428328</td>\n",
       "      <td>high_risk</td>\n",
       "    </tr>\n",
       "  </tbody>\n",
       "</table>\n",
       "</div>"
      ],
      "text/plain": [
       "debt      avg_income_per_person children_impact\n",
       "children                                       \n",
       "0                  20273.513706        low_risk\n",
       "1                  11696.098171        low_risk\n",
       "2                   8255.350442        low_risk\n",
       "3                   5219.697143       high_risk\n",
       "4                   4100.149250       high_risk\n",
       "20                  1135.428328       high_risk"
      ]
     },
     "execution_count": 32,
     "metadata": {},
     "output_type": "execute_result"
    }
   ],
   "source": [
    "def children_impact(children):\n",
    "    if children <= data_pivot_dataframe_per_children['avg_income_per_person'].median():\n",
    "        return 'high_risk'\n",
    "    else:\n",
    "        return 'low_risk'\n",
    "    \n",
    "data_pivot_dataframe_per_children['children_impact'] = data_pivot_dataframe_per_children['avg_income_per_person'].apply(children_impact) \n",
    "data_pivot_dataframe_per_children"
   ]
  },
  {
   "cell_type": "markdown",
   "metadata": {},
   "source": [
    "#### Conclusion\n",
    "\n",
    "Number of Children family has is: 0,1,2,3,4\n",
    "\n",
    "From pivot table we can see that on the basis children & their family_status for both when person is under debt & no debt what is the average total income.\n",
    "As we are looking for repayment of loan on time: So we will consider person under debt that means where debt==1 & what is the average income per person categorised by family_status & children.\n",
    "Further when we see on the basis of number of children family has and average income per person. Categorised the impact children can have based on average income per person by taking the median and classified under high & low risk.\n",
    "\n",
    "From the above table we can say based: Greater the average income per person with less number of children there is higher chances of repayment of loan on time.\n",
    "\n",
    "As we can see family having more than 2 children their aberage imcome per person decreases and hence, repayment of loan timely is under high risk. \n",
    "\n",
    "Thus, we can conclude that yes there is relationship between having kids and repayment of loan on time."
   ]
  },
  {
   "cell_type": "markdown",
   "metadata": {},
   "source": [
    "### Is there a relation between marital status and repaying a loan on time?"
   ]
  },
  {
   "cell_type": "code",
   "execution_count": 33,
   "metadata": {},
   "outputs": [
    {
     "data": {
      "text/plain": [
       "married              12344\n",
       "civil partnership     4162\n",
       "unmarried             2810\n",
       "divorced              1195\n",
       "widow / widower        959\n",
       "Name: family_status, dtype: int64"
      ]
     },
     "execution_count": 33,
     "metadata": {},
     "output_type": "execute_result"
    }
   ],
   "source": [
    "credit_scoring_removed_duplicated['family_status'].value_counts()"
   ]
  },
  {
   "cell_type": "code",
   "execution_count": 34,
   "metadata": {},
   "outputs": [],
   "source": [
    "data_pivot_family_status = credit_scoring_removed_duplicated.pivot_table(index=['family_status','children'],columns='debt', values='total_income', aggfunc='mean')\n",
    "data_pivot_with_reset_index_family_status = data_pivot_family_status.reset_index()"
   ]
  },
  {
   "cell_type": "code",
   "execution_count": 35,
   "metadata": {},
   "outputs": [
    {
     "data": {
      "text/plain": [
       "family_status\n",
       "widow / widower      16804.228542\n",
       "divorced             10340.491754\n",
       "unmarried             9801.300503\n",
       "married               6820.098445\n",
       "civil partnership     6580.414778\n",
       "Name: avg_income_per_person, dtype: float64"
      ]
     },
     "execution_count": 35,
     "metadata": {},
     "output_type": "execute_result"
    }
   ],
   "source": [
    "data_pivot_dataframe_per_family_status= data_pivot_dataframe.pivot_table(index= ['family_status'] ,values ='avg_income_per_person', aggfunc='mean')\n",
    "data_pivot_dataframe_per_family_status['avg_income_per_person'].sort_values(ascending= False)"
   ]
  },
  {
   "cell_type": "code",
   "execution_count": 36,
   "metadata": {},
   "outputs": [
    {
     "data": {
      "text/html": [
       "<div>\n",
       "<style scoped>\n",
       "    .dataframe tbody tr th:only-of-type {\n",
       "        vertical-align: middle;\n",
       "    }\n",
       "\n",
       "    .dataframe tbody tr th {\n",
       "        vertical-align: top;\n",
       "    }\n",
       "\n",
       "    .dataframe thead th {\n",
       "        text-align: right;\n",
       "    }\n",
       "</style>\n",
       "<table border=\"1\" class=\"dataframe\">\n",
       "  <thead>\n",
       "    <tr style=\"text-align: right;\">\n",
       "      <th>debt</th>\n",
       "      <th>avg_income_per_person</th>\n",
       "      <th>family_status_impact</th>\n",
       "    </tr>\n",
       "    <tr>\n",
       "      <th>family_status</th>\n",
       "      <th></th>\n",
       "      <th></th>\n",
       "    </tr>\n",
       "  </thead>\n",
       "  <tbody>\n",
       "    <tr>\n",
       "      <th>civil partnership</th>\n",
       "      <td>6580.414778</td>\n",
       "      <td>high_risk</td>\n",
       "    </tr>\n",
       "    <tr>\n",
       "      <th>divorced</th>\n",
       "      <td>10340.491754</td>\n",
       "      <td>low_risk</td>\n",
       "    </tr>\n",
       "    <tr>\n",
       "      <th>married</th>\n",
       "      <td>6820.098445</td>\n",
       "      <td>high_risk</td>\n",
       "    </tr>\n",
       "    <tr>\n",
       "      <th>unmarried</th>\n",
       "      <td>9801.300503</td>\n",
       "      <td>low_risk</td>\n",
       "    </tr>\n",
       "    <tr>\n",
       "      <th>widow / widower</th>\n",
       "      <td>16804.228542</td>\n",
       "      <td>low_risk</td>\n",
       "    </tr>\n",
       "  </tbody>\n",
       "</table>\n",
       "</div>"
      ],
      "text/plain": [
       "debt               avg_income_per_person family_status_impact\n",
       "family_status                                                \n",
       "civil partnership            6580.414778            high_risk\n",
       "divorced                    10340.491754             low_risk\n",
       "married                      6820.098445            high_risk\n",
       "unmarried                    9801.300503             low_risk\n",
       "widow / widower             16804.228542             low_risk"
      ]
     },
     "execution_count": 36,
     "metadata": {},
     "output_type": "execute_result"
    }
   ],
   "source": [
    "def family_status_impact(family_status):\n",
    "    if family_status < data_pivot_dataframe_per_family_status['avg_income_per_person'].median():\n",
    "        return 'high_risk'\n",
    "    else:\n",
    "        return 'low_risk'\n",
    "    \n",
    "data_pivot_dataframe_per_family_status['family_status_impact'] = data_pivot_dataframe_per_family_status['avg_income_per_person'].apply(family_status_impact) \n",
    "data_pivot_dataframe_per_family_status"
   ]
  },
  {
   "cell_type": "markdown",
   "metadata": {},
   "source": [
    "#### Conclusion\n",
    "\n",
    "Family Status is divided into 4 categories: married,civil partnership,unmarried,divorced,widow / widower\n",
    "\n",
    "From the above table we can say: Divorced, unmarried and widow there is higher chances of repayment of loan on time.\n",
    "\n",
    "As we can see family status for civil partner, married imcome per person is lower and hence, repayment of loan timely is under high risk. \n",
    "\n",
    "Thus, we can conclude that there is relationship between family_status and repayment of loan on time."
   ]
  },
  {
   "cell_type": "markdown",
   "metadata": {},
   "source": [
    "### Is there a relation between income level and repaying a loan on time?"
   ]
  },
  {
   "cell_type": "code",
   "execution_count": 37,
   "metadata": {},
   "outputs": [
    {
     "data": {
      "text/plain": [
       "very_high    6958\n",
       "medium       4838\n",
       "low          4838\n",
       "high         4836\n",
       "Name: income_level, dtype: int64"
      ]
     },
     "execution_count": 37,
     "metadata": {},
     "output_type": "execute_result"
    }
   ],
   "source": [
    "credit_scoring_removed_duplicated['income_level'].value_counts()"
   ]
  },
  {
   "cell_type": "code",
   "execution_count": 38,
   "metadata": {},
   "outputs": [
    {
     "data": {
      "text/html": [
       "<div>\n",
       "<style scoped>\n",
       "    .dataframe tbody tr th:only-of-type {\n",
       "        vertical-align: middle;\n",
       "    }\n",
       "\n",
       "    .dataframe tbody tr th {\n",
       "        vertical-align: top;\n",
       "    }\n",
       "\n",
       "    .dataframe thead th {\n",
       "        text-align: right;\n",
       "    }\n",
       "</style>\n",
       "<table border=\"1\" class=\"dataframe\">\n",
       "  <thead>\n",
       "    <tr style=\"text-align: right;\">\n",
       "      <th>debt</th>\n",
       "      <th>income_level</th>\n",
       "      <th>family_status</th>\n",
       "      <th>children</th>\n",
       "      <th>0</th>\n",
       "      <th>1</th>\n",
       "    </tr>\n",
       "  </thead>\n",
       "  <tbody>\n",
       "    <tr>\n",
       "      <th>101</th>\n",
       "      <td>very_high</td>\n",
       "      <td>widow / widower</td>\n",
       "      <td>0</td>\n",
       "      <td>44668.677417</td>\n",
       "      <td>40388.46</td>\n",
       "    </tr>\n",
       "    <tr>\n",
       "      <th>102</th>\n",
       "      <td>very_high</td>\n",
       "      <td>widow / widower</td>\n",
       "      <td>1</td>\n",
       "      <td>41397.720667</td>\n",
       "      <td>45850.67</td>\n",
       "    </tr>\n",
       "    <tr>\n",
       "      <th>103</th>\n",
       "      <td>very_high</td>\n",
       "      <td>widow / widower</td>\n",
       "      <td>2</td>\n",
       "      <td>41229.720000</td>\n",
       "      <td>51284.32</td>\n",
       "    </tr>\n",
       "    <tr>\n",
       "      <th>104</th>\n",
       "      <td>very_high</td>\n",
       "      <td>widow / widower</td>\n",
       "      <td>3</td>\n",
       "      <td>44415.853333</td>\n",
       "      <td>NaN</td>\n",
       "    </tr>\n",
       "    <tr>\n",
       "      <th>105</th>\n",
       "      <td>very_high</td>\n",
       "      <td>widow / widower</td>\n",
       "      <td>20</td>\n",
       "      <td>42315.970000</td>\n",
       "      <td>NaN</td>\n",
       "    </tr>\n",
       "  </tbody>\n",
       "</table>\n",
       "</div>"
      ],
      "text/plain": [
       "debt income_level    family_status  children             0         1\n",
       "101     very_high  widow / widower         0  44668.677417  40388.46\n",
       "102     very_high  widow / widower         1  41397.720667  45850.67\n",
       "103     very_high  widow / widower         2  41229.720000  51284.32\n",
       "104     very_high  widow / widower         3  44415.853333       NaN\n",
       "105     very_high  widow / widower        20  42315.970000       NaN"
      ]
     },
     "execution_count": 38,
     "metadata": {},
     "output_type": "execute_result"
    }
   ],
   "source": [
    "data_pivot_income_level = credit_scoring_removed_duplicated.pivot_table(index=['income_level','family_status','children'],columns='debt', values='total_income', aggfunc='mean')\n",
    "data_pivot_reset_index_income_level = data_pivot_income_level.reset_index()\n",
    "data_pivot_reset_index_income_level.tail(5)"
   ]
  },
  {
   "cell_type": "code",
   "execution_count": 39,
   "metadata": {},
   "outputs": [],
   "source": [
    "data_pivot_dataframe_income_level = pd.DataFrame(data_pivot_reset_index_income_level)\n",
    "\n",
    "data_pivot_dataframe_income_level.loc[(data_pivot_dataframe_income_level['family_status'] == 'civil partnership') | (data_pivot_dataframe_income_level['family_status'] == 'married'),'avg_income_per_person'] = data_pivot_dataframe_income_level[1]/(data_pivot_dataframe_income_level['children'] +2)\n",
    "data_pivot_dataframe_income_level.loc[(data_pivot_dataframe_income_level['family_status'] == 'divorced') | (data_pivot_dataframe_income_level['family_status'] == 'widow / widower')|(data_pivot_dataframe_income_level['family_status'] == 'unmarried'),'avg_income_per_person'] = data_pivot_dataframe_income_level[1]/(data_pivot_dataframe_income_level['children'] +1)\n"
   ]
  },
  {
   "cell_type": "code",
   "execution_count": 40,
   "metadata": {},
   "outputs": [
    {
     "data": {
      "text/plain": [
       "income_level\n",
       "very_high    19648.215039\n",
       "high         11848.302133\n",
       "medium        7962.952118\n",
       "low           6044.830359\n",
       "Name: avg_income_per_person, dtype: float64"
      ]
     },
     "execution_count": 40,
     "metadata": {},
     "output_type": "execute_result"
    }
   ],
   "source": [
    "data_pivot_dataframe_per_income_level= data_pivot_dataframe_income_level.pivot_table(index= ['income_level'] ,values ='avg_income_per_person', aggfunc='mean')\n",
    "data_pivot_dataframe_per_income_level['avg_income_per_person'].sort_values(ascending= False)"
   ]
  },
  {
   "cell_type": "code",
   "execution_count": 41,
   "metadata": {},
   "outputs": [
    {
     "data": {
      "text/html": [
       "<div>\n",
       "<style scoped>\n",
       "    .dataframe tbody tr th:only-of-type {\n",
       "        vertical-align: middle;\n",
       "    }\n",
       "\n",
       "    .dataframe tbody tr th {\n",
       "        vertical-align: top;\n",
       "    }\n",
       "\n",
       "    .dataframe thead th {\n",
       "        text-align: right;\n",
       "    }\n",
       "</style>\n",
       "<table border=\"1\" class=\"dataframe\">\n",
       "  <thead>\n",
       "    <tr style=\"text-align: right;\">\n",
       "      <th>debt</th>\n",
       "      <th>avg_income_per_person</th>\n",
       "      <th>income_level_impact</th>\n",
       "    </tr>\n",
       "    <tr>\n",
       "      <th>income_level</th>\n",
       "      <th></th>\n",
       "      <th></th>\n",
       "    </tr>\n",
       "  </thead>\n",
       "  <tbody>\n",
       "    <tr>\n",
       "      <th>high</th>\n",
       "      <td>11848.302133</td>\n",
       "      <td>low_risk</td>\n",
       "    </tr>\n",
       "    <tr>\n",
       "      <th>low</th>\n",
       "      <td>6044.830359</td>\n",
       "      <td>high_risk</td>\n",
       "    </tr>\n",
       "    <tr>\n",
       "      <th>medium</th>\n",
       "      <td>7962.952118</td>\n",
       "      <td>high_risk</td>\n",
       "    </tr>\n",
       "    <tr>\n",
       "      <th>very_high</th>\n",
       "      <td>19648.215039</td>\n",
       "      <td>low_risk</td>\n",
       "    </tr>\n",
       "  </tbody>\n",
       "</table>\n",
       "</div>"
      ],
      "text/plain": [
       "debt          avg_income_per_person income_level_impact\n",
       "income_level                                           \n",
       "high                   11848.302133            low_risk\n",
       "low                     6044.830359           high_risk\n",
       "medium                  7962.952118           high_risk\n",
       "very_high              19648.215039            low_risk"
      ]
     },
     "execution_count": 41,
     "metadata": {},
     "output_type": "execute_result"
    }
   ],
   "source": [
    "def income_level_impact(income_level):\n",
    "    if income_level <= data_pivot_dataframe_per_income_level['avg_income_per_person'].median():\n",
    "        return 'high_risk'\n",
    "    else:\n",
    "        return 'low_risk'\n",
    "    \n",
    "data_pivot_dataframe_per_income_level['income_level_impact'] = data_pivot_dataframe_per_income_level['avg_income_per_person'].apply(income_level_impact) \n",
    "data_pivot_dataframe_per_income_level"
   ]
  },
  {
   "cell_type": "markdown",
   "metadata": {},
   "source": [
    "#### Conclusion\n",
    "\n",
    "Income level is divided into 4 categories: low,meduim ,high,very high\n",
    "\n",
    "From the above table we can say: those who are under high and very high income group there is higher chances of repayment of loan on time.\n",
    "\n",
    "As we can see income level for low and medium imcome group has lower income per person and hence, repayment of loan timely is under high risk. \n",
    "\n",
    "Thus, we can conclude that there is relationship between income_level and repayment of loan on time.\n"
   ]
  },
  {
   "cell_type": "markdown",
   "metadata": {},
   "source": [
    "### How do different loan purposes affect on-time repayment of the loan?"
   ]
  },
  {
   "cell_type": "code",
   "execution_count": 42,
   "metadata": {},
   "outputs": [
    {
     "data": {
      "text/plain": [
       "real estate    4465\n",
       "car            4308\n",
       "education      4014\n",
       "house          3809\n",
       "property       2539\n",
       "wedding        2335\n",
       "Name: purpose_category, dtype: int64"
      ]
     },
     "execution_count": 42,
     "metadata": {},
     "output_type": "execute_result"
    }
   ],
   "source": [
    "credit_scoring_removed_duplicated['purpose_category'].value_counts()"
   ]
  },
  {
   "cell_type": "code",
   "execution_count": 43,
   "metadata": {},
   "outputs": [],
   "source": [
    "data_pivot_purpose_category = credit_scoring_removed_duplicated.pivot_table(index=['purpose_category','family_status','children'],columns='debt', values='total_income', aggfunc='mean')\n",
    "data_pivot_reset_index_purpose_category = data_pivot_purpose_category.reset_index()"
   ]
  },
  {
   "cell_type": "code",
   "execution_count": 44,
   "metadata": {},
   "outputs": [
    {
     "data": {
      "text/html": [
       "<div>\n",
       "<style scoped>\n",
       "    .dataframe tbody tr th:only-of-type {\n",
       "        vertical-align: middle;\n",
       "    }\n",
       "\n",
       "    .dataframe tbody tr th {\n",
       "        vertical-align: top;\n",
       "    }\n",
       "\n",
       "    .dataframe thead th {\n",
       "        text-align: right;\n",
       "    }\n",
       "</style>\n",
       "<table border=\"1\" class=\"dataframe\">\n",
       "  <thead>\n",
       "    <tr style=\"text-align: right;\">\n",
       "      <th>debt</th>\n",
       "      <th>purpose_category</th>\n",
       "      <th>family_status</th>\n",
       "      <th>children</th>\n",
       "      <th>0</th>\n",
       "      <th>1</th>\n",
       "      <th>avg_income_per_person</th>\n",
       "    </tr>\n",
       "  </thead>\n",
       "  <tbody>\n",
       "    <tr>\n",
       "      <th>0</th>\n",
       "      <td>car</td>\n",
       "      <td>civil partnership</td>\n",
       "      <td>0</td>\n",
       "      <td>26347.409106</td>\n",
       "      <td>22871.033600</td>\n",
       "      <td>11435.516800</td>\n",
       "    </tr>\n",
       "    <tr>\n",
       "      <th>1</th>\n",
       "      <td>car</td>\n",
       "      <td>civil partnership</td>\n",
       "      <td>1</td>\n",
       "      <td>27616.252530</td>\n",
       "      <td>25776.758125</td>\n",
       "      <td>8592.252708</td>\n",
       "    </tr>\n",
       "    <tr>\n",
       "      <th>2</th>\n",
       "      <td>car</td>\n",
       "      <td>civil partnership</td>\n",
       "      <td>2</td>\n",
       "      <td>26815.049643</td>\n",
       "      <td>22454.403333</td>\n",
       "      <td>5613.600833</td>\n",
       "    </tr>\n",
       "    <tr>\n",
       "      <th>3</th>\n",
       "      <td>car</td>\n",
       "      <td>civil partnership</td>\n",
       "      <td>3</td>\n",
       "      <td>21212.050000</td>\n",
       "      <td>42181.290000</td>\n",
       "      <td>8436.258000</td>\n",
       "    </tr>\n",
       "    <tr>\n",
       "      <th>4</th>\n",
       "      <td>car</td>\n",
       "      <td>civil partnership</td>\n",
       "      <td>4</td>\n",
       "      <td>20140.810000</td>\n",
       "      <td>NaN</td>\n",
       "      <td>NaN</td>\n",
       "    </tr>\n",
       "  </tbody>\n",
       "</table>\n",
       "</div>"
      ],
      "text/plain": [
       "debt purpose_category      family_status  children             0  \\\n",
       "0                 car  civil partnership         0  26347.409106   \n",
       "1                 car  civil partnership         1  27616.252530   \n",
       "2                 car  civil partnership         2  26815.049643   \n",
       "3                 car  civil partnership         3  21212.050000   \n",
       "4                 car  civil partnership         4  20140.810000   \n",
       "\n",
       "debt             1  avg_income_per_person  \n",
       "0     22871.033600           11435.516800  \n",
       "1     25776.758125            8592.252708  \n",
       "2     22454.403333            5613.600833  \n",
       "3     42181.290000            8436.258000  \n",
       "4              NaN                    NaN  "
      ]
     },
     "execution_count": 44,
     "metadata": {},
     "output_type": "execute_result"
    }
   ],
   "source": [
    "data_pivot_dataframe_purpose_category = pd.DataFrame(data_pivot_reset_index_purpose_category)\n",
    "\n",
    "\n",
    "data_pivot_reset_index_purpose_category.loc[(data_pivot_reset_index_purpose_category['family_status'] == 'civil partnership') | (data_pivot_reset_index_purpose_category['family_status'] == 'married'),'avg_income_per_person'] = data_pivot_reset_index_purpose_category[1]/(data_pivot_reset_index_purpose_category['children'] +2)\n",
    "data_pivot_reset_index_purpose_category.loc[(data_pivot_reset_index_purpose_category['family_status'] == 'divorced') | (data_pivot_reset_index_purpose_category['family_status'] == 'widow / widower')|(data_pivot_reset_index_purpose_category['family_status'] == 'unmarried'),'avg_income_per_person'] = data_pivot_reset_index_purpose_category[1]/(data_pivot_reset_index_purpose_category['children'] +1)\n",
    "\n",
    "data_pivot_reset_index_purpose_category.head(5)"
   ]
  },
  {
   "cell_type": "code",
   "execution_count": 45,
   "metadata": {},
   "outputs": [
    {
     "data": {
      "text/plain": [
       "purpose_category\n",
       "house          12439.404242\n",
       "property       12393.080100\n",
       "real estate    12198.124821\n",
       "education      11097.474009\n",
       "car            10987.309812\n",
       "wedding         6000.334237\n",
       "Name: avg_income_per_person, dtype: float64"
      ]
     },
     "execution_count": 45,
     "metadata": {},
     "output_type": "execute_result"
    }
   ],
   "source": [
    "data_pivot_dataframe_per_purpose_category= data_pivot_dataframe_purpose_category.pivot_table(index= ['purpose_category'] ,values ='avg_income_per_person', aggfunc='mean')\n",
    "data_pivot_dataframe_per_purpose_category['avg_income_per_person'].sort_values(ascending= False)"
   ]
  },
  {
   "cell_type": "code",
   "execution_count": 46,
   "metadata": {},
   "outputs": [
    {
     "data": {
      "text/html": [
       "<div>\n",
       "<style scoped>\n",
       "    .dataframe tbody tr th:only-of-type {\n",
       "        vertical-align: middle;\n",
       "    }\n",
       "\n",
       "    .dataframe tbody tr th {\n",
       "        vertical-align: top;\n",
       "    }\n",
       "\n",
       "    .dataframe thead th {\n",
       "        text-align: right;\n",
       "    }\n",
       "</style>\n",
       "<table border=\"1\" class=\"dataframe\">\n",
       "  <thead>\n",
       "    <tr style=\"text-align: right;\">\n",
       "      <th>debt</th>\n",
       "      <th>avg_income_per_person</th>\n",
       "      <th>purpose_category_impact</th>\n",
       "    </tr>\n",
       "    <tr>\n",
       "      <th>purpose_category</th>\n",
       "      <th></th>\n",
       "      <th></th>\n",
       "    </tr>\n",
       "  </thead>\n",
       "  <tbody>\n",
       "    <tr>\n",
       "      <th>car</th>\n",
       "      <td>10987.309812</td>\n",
       "      <td>low_risk</td>\n",
       "    </tr>\n",
       "    <tr>\n",
       "      <th>education</th>\n",
       "      <td>11097.474009</td>\n",
       "      <td>low_risk</td>\n",
       "    </tr>\n",
       "    <tr>\n",
       "      <th>house</th>\n",
       "      <td>12439.404242</td>\n",
       "      <td>low_risk</td>\n",
       "    </tr>\n",
       "    <tr>\n",
       "      <th>property</th>\n",
       "      <td>12393.080100</td>\n",
       "      <td>low_risk</td>\n",
       "    </tr>\n",
       "    <tr>\n",
       "      <th>real estate</th>\n",
       "      <td>12198.124821</td>\n",
       "      <td>low_risk</td>\n",
       "    </tr>\n",
       "    <tr>\n",
       "      <th>wedding</th>\n",
       "      <td>6000.334237</td>\n",
       "      <td>high_risk</td>\n",
       "    </tr>\n",
       "  </tbody>\n",
       "</table>\n",
       "</div>"
      ],
      "text/plain": [
       "debt              avg_income_per_person purpose_category_impact\n",
       "purpose_category                                               \n",
       "car                        10987.309812                low_risk\n",
       "education                  11097.474009                low_risk\n",
       "house                      12439.404242                low_risk\n",
       "property                   12393.080100                low_risk\n",
       "real estate                12198.124821                low_risk\n",
       "wedding                     6000.334237               high_risk"
      ]
     },
     "execution_count": 46,
     "metadata": {},
     "output_type": "execute_result"
    }
   ],
   "source": [
    "def purpose_category_impact(purpose_category):\n",
    "    if purpose_category <= data_pivot_dataframe_per_family_status['avg_income_per_person'].median():\n",
    "        return 'high_risk'\n",
    "    else:\n",
    "        return 'low_risk'\n",
    "    \n",
    "data_pivot_dataframe_per_purpose_category['purpose_category_impact'] = data_pivot_dataframe_per_purpose_category['avg_income_per_person'].apply(purpose_category_impact) \n",
    "data_pivot_dataframe_per_purpose_category"
   ]
  },
  {
   "cell_type": "markdown",
   "metadata": {},
   "source": [
    "#### Conclusion\n",
    "\n",
    "Purpose of loan is divided into various categories: car, education ,house, property, real estate,wedding\n",
    "\n",
    "From the above table we can say: those who take loan for education, house, property & real estate there is higher chances of repayment of loan on time.\n",
    "\n",
    "As we can see those who take loan on car and for wedding purpose, repayment of loan timely is under high risk. \n",
    "\n",
    "Thus, we can conclude that there is relationship between purpose effect and repayment of loan on time."
   ]
  },
  {
   "cell_type": "markdown",
   "metadata": {},
   "source": [
    "## Step 4. General Conclusion"
   ]
  },
  {
   "cell_type": "markdown",
   "metadata": {},
   "source": [
    "Fom the above analysis we can conclude that repayment of loan on time depends on several facrtors such as: income of the family, number of children in the family, marital status of the family and purpose of their loan.\n",
    "This is concluded on the fact that if we calculate average income per person of the marital status of the family we see the result shows married & civil patner has lower average income per person as compared to other categories of family status. In case of number of children and average income per person family having more than 1 children their average income per person is lower. Income level with low and medium income group in that case also average income per person is lower. Finally with purpose for loan those who has lower average income per person takes loan for car and wedding.\n",
    "\n",
    "To conclude: When average per person income is lower then, family status:married & civil partner and number of children: greater than 1 children and income_level: lower & medium income group and purpose: loan for car and wedding. High chances that they won't pay loan on-time. Hence, we can say all the above factors affect repayment of loan on-time."
   ]
  }
 ],
 "metadata": {
  "kernelspec": {
   "display_name": "Python 3",
   "language": "python",
   "name": "python3"
  },
  "language_info": {
   "codemirror_mode": {
    "name": "ipython",
    "version": 3
   },
   "file_extension": ".py",
   "mimetype": "text/x-python",
   "name": "python",
   "nbconvert_exporter": "python",
   "pygments_lexer": "ipython3",
   "version": "3.7.6"
  },
  "toc": {
   "base_numbering": 1,
   "nav_menu": {},
   "number_sections": true,
   "sideBar": true,
   "skip_h1_title": false,
   "title_cell": "Table of Contents",
   "title_sidebar": "Contents",
   "toc_cell": false,
   "toc_position": {},
   "toc_section_display": true,
   "toc_window_display": true
  }
 },
 "nbformat": 4,
 "nbformat_minor": 4
}
